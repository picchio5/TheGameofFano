{
 "cells": [
  {
   "cell_type": "markdown",
   "metadata": {},
   "source": [
    "# Implementing Card class "
   ]
  },
  {
   "cell_type": "code",
   "execution_count": 1,
   "metadata": {},
   "outputs": [
    {
     "name": "stdout",
     "output_type": "stream",
     "text": [
      "Name: Joe Biden, Color: red, Type: person\n",
      "Name: Donald Trump, Color: red, Type: person\n",
      "Name: Papa Francesco, Color: papa, Type: person\n",
      "Name: Jannik Sinner, Color: orange, Type: person\n",
      "Name: Giorgia Meloni, Color: red, Type: person\n",
      "Name: Giuseppe Conte, Color: red, Type: person\n",
      "Name: Lautaro Martinez, Color: orange, Type: person\n",
      "Name: P38, Color: pink, Type: person\n",
      "Name: Michele Salvemini detto 'Caparezza', Color: pink, Type: person\n",
      "Name: Victor Wembanyama, Color: orange, Type: person\n",
      "Name: Elly Schlein, Color: red, Type: person\n",
      "Name: Olaf Scholz, Color: red, Type: person\n",
      "Name: Babar Azam, Color: orange, Type: person\n"
     ]
    }
   ],
   "source": [
    "import json\n",
    "\n",
    "class Card:\n",
    "    def __init__(self, card_name, card_age, card_country, card_color, card_type, card_mana, card_power):\n",
    "        self.name = card_name\n",
    "        self.age = card_age\n",
    "        self.country = card_country\n",
    "        self.color = card_color\n",
    "        self.type = card_type\n",
    "        self.mana = card_mana\n",
    "        self.power = card_power\n",
    "\n",
    "\n",
    "def load_cards_from_json(file_path):\n",
    "    with open(file_path, 'r') as json_file:\n",
    "        data = json.load(json_file)\n",
    "        cards = []\n",
    "        for card_data in data['cards']:\n",
    "            card = Card(card_data['name'], card_data['age'], card_data['country'], card_data['color'], card_data['type'], card_data['mana'], card_data['power'])\n",
    "            cards.append(card)\n",
    "        return cards\n",
    "\n",
    "# Example usage\n",
    "file_path = '/Users/davide/Desktop/TheGameofFano/cards.json'\n",
    "cards = load_cards_from_json(file_path)\n",
    "for card in cards:\n",
    "    print(f\"Name: {card.name}, Color: {card.color}, Type: {card.type}\")\n"
   ]
  },
  {
   "cell_type": "markdown",
   "metadata": {},
   "source": []
  },
  {
   "cell_type": "markdown",
   "metadata": {},
   "source": [
    "# Implementing Deck Class"
   ]
  },
  {
   "cell_type": "code",
   "execution_count": 2,
   "metadata": {},
   "outputs": [
    {
     "name": "stdout",
     "output_type": "stream",
     "text": [
      "Drawn card: Papa Francesco\n",
      "Drawn cards:\n",
      "- Elly Schlein\n",
      "- Joe Biden\n",
      "- Giorgia Meloni\n"
     ]
    }
   ],
   "source": [
    "import random\n",
    "\n",
    "class Deck:\n",
    "    def __init__(self, deck_cards):\n",
    "        self.cards = deck_cards\n",
    "\n",
    "    def shuffle(self):\n",
    "        random.shuffle(self.cards)\n",
    "\n",
    "    def draw(self, num_cards=1):\n",
    "        if num_cards <= 0:\n",
    "            print(\"Please specify a positive number of cards to draw.\")\n",
    "            return None\n",
    "        if len(self.cards) < num_cards:\n",
    "            print(\"Not enough cards in the deck to draw.\")\n",
    "            return None\n",
    "        drawn_cards = self.cards[:num_cards]\n",
    "        self.cards = self.cards[num_cards:]\n",
    "        return drawn_cards\n",
    "\n",
    "# Example usage\n",
    "# Assuming 'cards' is a list of Card objects obtained from load_cards_from_json() function\n",
    "# cards = load_cards_from_json(file_path)\n",
    "\n",
    "# Create a deck with the list of cards\n",
    "deck = Deck(cards)\n",
    "\n",
    "# Shuffle the deck\n",
    "deck.shuffle()\n",
    "\n",
    "# Draw a single card from the deck\n",
    "drawn_card = deck.draw()\n",
    "print(f\"Drawn card: {drawn_card[0].name}\")\n",
    "\n",
    "# Draw multiple cards from the deck\n",
    "drawn_cards = deck.draw(3)\n",
    "if drawn_cards:\n",
    "    print(\"Drawn cards:\")\n",
    "    for card in drawn_cards:\n",
    "        print(f\"- {card.name}\")\n"
   ]
  },
  {
   "cell_type": "markdown",
   "metadata": {},
   "source": [
    "# Implementing Player Class"
   ]
  },
  {
   "cell_type": "code",
   "execution_count": 4,
   "metadata": {},
   "outputs": [
    {
     "name": "stdout",
     "output_type": "stream",
     "text": [
      "[<__main__.Card object at 0x7f8f285a9090>]\n",
      "Player 1's Hand:\n",
      "1. P38 (person)\n",
      "Player 1, choose a card to play:\n",
      "Player 1's Hand:\n",
      "1. P38 (person)\n"
     ]
    }
   ],
   "source": [
    "class Player:\n",
    "    def __init__(self, name, starting_life, deck):\n",
    "        self.name = name\n",
    "        self.life = starting_life\n",
    "        self.deck = deck\n",
    "        self.hand = []\n",
    "\n",
    "    \n",
    "    def draw_card(self, num_cards=1):\n",
    "        drawn_cards = self.deck.draw(num_cards)\n",
    "        print(drawn_cards)\n",
    "        if drawn_cards:\n",
    "            self.hand.extend(drawn_cards)\n",
    "        else:\n",
    "            print(f\"{self.name} cannot draw cards. The deck is empty.\")\n",
    "            return None # This will be a lose condition, but will implement it once there are more cards\n",
    "\n",
    "    def show_hand(self):\n",
    "        print(f\"{self.name}'s Hand:\")\n",
    "        for i, card in enumerate(self.hand, 1):\n",
    "            print(f\"{i}. {card.name} ({card.type})\")\n",
    "\n",
    "    def play_card(self, board):\n",
    "        if not self.hand:\n",
    "            print(\"No cards in hand to play.\")\n",
    "            return\n",
    "        print(f\"{self.name}, choose a card to play:\")\n",
    "        self.show_hand()\n",
    "        while True:\n",
    "            try:\n",
    "                choice = int(input(\"Enter the number of the card to play: \"))\n",
    "                if 1 <= choice <= len(self.hand):\n",
    "                    card = self.hand.pop(choice - 1)  # Remove the chosen card from hand\n",
    "                    board.add_card(card)  # Add the card to the board\n",
    "                    print(f\"{self.name} plays {card.card_name}.\")\n",
    "                    break\n",
    "                else:\n",
    "                    print(\"Invalid choice. Please enter a number within the range.\")\n",
    "            except ValueError:\n",
    "                print(\"Invalid input. Please enter a valid number.\")\n",
    "\n",
    "\n",
    "    def take_damage(self, damage):\n",
    "        self.life -= damage\n",
    "        print(f\"{self.name} takes {damage} damage. Remaining life: {self.life}\")\n",
    "\n",
    "    #def play_card(self, board) TO BE IMPLEMENTED\n",
    "        \n",
    "# Testing the usage\n",
    "        \n",
    "        \n",
    "# Setup players\n",
    "player1 = Player(\"Player 1\", 200, deck)\n",
    "player2 = Player(\"Player 2\", 200, deck)\n",
    "\n",
    "players = [player1, player2]\n",
    "\n",
    "player1.draw_card()\n",
    "\n",
    "player1.show_hand()\n",
    "\n",
    "# Setup board\n",
    "\n",
    "board = Board(players)\n",
    "\n",
    "player1.play_card(board)\n"
   ]
  },
  {
   "cell_type": "markdown",
   "metadata": {},
   "source": []
  },
  {
   "cell_type": "markdown",
   "metadata": {},
   "source": [
    "# Implementing the Board class"
   ]
  },
  {
   "cell_type": "code",
   "execution_count": 3,
   "metadata": {},
   "outputs": [],
   "source": [
    "# I should pass it instead of the number of players a dict with the name of the players and their associated numbers, \n",
    "# to then access the correct slots in the cards and board size arrays\n",
    "\n",
    "class Board:\n",
    "    def __init__(self, players, max_cards_in_play_per_player=5):\n",
    "        self.players = players\n",
    "        self.cards_in_play = {player: [] for player in players}  # Dictionary to store cards in play for each player\n",
    "        self.cards_in_graveyard = {player: [] for player in players}  # Dictionary to store cards in graveyard for each player\n",
    "        self.max_cards_in_play_per_player = max_cards_in_play_per_player\n",
    "\n",
    "\n",
    "    def add_card(self, player, card):\n",
    "        if len(self.cards_in_play[player]) < self.max_cards_in_play_per_player:\n",
    "            self.cards_in_play[player].append(card)\n",
    "            print(f\"{card.card_name} played by {player.name} added to the board.\")\n",
    "        else:\n",
    "            print(f\"Maximum number of cards in play for {player.name} reached. Cannot add more cards.\")\n",
    "\n",
    "    def change_size(self, player, new_size):\n",
    "        self.size[player] = new_size\n"
   ]
  },
  {
   "cell_type": "markdown",
   "metadata": {},
   "source": [
    "# Implementing the Game class\n",
    "\n",
    "TO DO: add the option to change game mode"
   ]
  },
  {
   "cell_type": "code",
   "execution_count": 13,
   "metadata": {},
   "outputs": [],
   "source": [
    "class Game:\n",
    "    def __init__(self, game_players, game_board):\n",
    "        self.players = game_players\n",
    "        self.board = game_board\n",
    "\n",
    "    def starting_phase(self, active_player, opponent):\n",
    "        print(f\"Beginning of {active_player}'s turn!\")\n",
    "        #TO DO: activate begginning of the turn effects\n",
    "        #TO DO: possibility to play instant cards\n",
    "\n",
    "    def standby_phase(self, active_player, opponent):\n",
    "        print(\"Stand by phase\")\n",
    "        #TO DO: possibility to play instant cards\n",
    "\n",
    "    def draw_phase(self, active_player):\n",
    "        print(\"Draw phase\")\n",
    "        active_player.draw_card()\n",
    "        #TO DO: activate effects triggered by drawing phase\n",
    "        #TO DO: possibility to play instant cards\n",
    "\n",
    "    def main_phase(self, active_player):\n",
    "        print(\"Main phase\")\n",
    "        active_player.play_card(self.board) # need to implement it\n",
    "        #TO DO: possibility to play instant cards\n",
    "\n",
    "    def battle_phase(self, active_player, opponent):\n",
    "        print(\"Battle phase\")\n",
    "        print(f\"{active_player}: choose your attacking cards\") # implement the option to choose the attacking cards\n",
    "        print(f\"{opponent}: choose your defending cards\") # implement the option to choose the defending cards and whom they defen\n",
    "        # calculate damage # need to implement it\n",
    "        # apply damage # need to implement it\n",
    "        \n",
    "        #TO DO: possibility to play instant cards\n",
    "\n",
    "    def end_phase(self, active_player):\n",
    "        print(f\"End of{active_player}'s turn!\")\n",
    "        #TO DO: activate end of the turn effects\n",
    "        #TO DO: possibility to play instant cards"
   ]
  },
  {
   "cell_type": "markdown",
   "metadata": {},
   "source": [
    "# Implementing a Game "
   ]
  },
  {
   "cell_type": "markdown",
   "metadata": {},
   "source": []
  },
  {
   "cell_type": "code",
   "execution_count": 14,
   "metadata": {},
   "outputs": [
    {
     "name": "stdout",
     "output_type": "stream",
     "text": [
      "[<__main__.Card object at 0x7f92485f3d50>, <__main__.Card object at 0x7f92485f3ed0>, <__main__.Card object at 0x7f92485f3f10>, <__main__.Card object at 0x7f92485f3e90>, <__main__.Card object at 0x7f92485f3d90>, <__main__.Card object at 0x7f92485f3dd0>, <__main__.Card object at 0x7f92485f3fd0>]\n",
      "Not enough cards in the deck to draw.\n",
      "None\n",
      "Player 2 cannot draw cards. The deck is empty.\n"
     ]
    }
   ],
   "source": [
    "# Start of the game - [choose game mode (TO DO)] draw the cards, give the life to the players\n",
    "\n",
    "\n",
    "\n",
    "# Loop with the playing turns\n",
    "    # Starting phase -> effetti di inizio turno (si lega alla stand by phase 0)\n",
    "\t# Stand by phase 0 -> istantanei\n",
    "\t# Draw phase -> pesca e effetti legati alla pesca  istantanei che precedono il pescare\n",
    "\t# Stand by phase 1 -> puoi giocare gli instant\n",
    "\t# Main phase 1 -> Vengono giocate le cose in maniera non istantanea solo dal giocatore di turno\n",
    "\t\t\n",
    "\t# Battle phase -> Varie sottofasi\n",
    "\t# \tSelezione attaccanti\n",
    "\t# \tSelezioni bloccanti, la difesa sceglie i matchup (n a 1)\n",
    "\t# \tCalcolo dei danni \n",
    "\t# \tEffetti dei danni \n",
    "\t\t\n",
    "\t# Main phase 2 -> uguale alla prima\n",
    "\t# Stand by phase 2 -> puoi giocare gli instant\n",
    "\t# End phase -> is attivano gli effetti di fine turno\n",
    "    \n",
    "\n",
    "# Win conditions: to be checked at the end of every phase \n",
    "\n",
    "\n",
    "\n",
    "# Setup players\n",
    "player1 = Player(\"Player 1\", 200, deck)\n",
    "player2 = Player(\"Player 2\", 200, deck)\n",
    "\n",
    "players = [player1, player2]\n",
    "# Give 7 cards to each player\n",
    "player1_hand = player1.draw_card(7)\n",
    "player2_hand = player2.draw_card(7)\n",
    "\n",
    "# # Reshuffle hand, first time is free: mulligan option to be added as a Player metho\n",
    "# player1_hand = player1.draw_card(7)\n",
    "# player2_hand = player2.draw_card(7)\n",
    "\n",
    "# Setup board\n",
    "\n",
    "board = Board(players)\n",
    "game = Game(players, board)\n",
    "\n",
    "# Beginning of the game\n",
    "turn = 1\n",
    "active_player = player1\n",
    "opponent = player2\n",
    "\n",
    "# Game loop\n",
    "while turn < 10: #To avoid an infinite loop at the moment\n",
    "    print(f\"Turn {turn}: {active_player.name}'s turn\")\n",
    "    # Turn structure\n",
    "    game.starting_phase(active_player, opponent)\n",
    "    game.standby_phase(active_player, opponent)\n",
    "    game.draw_phase(active_player)\n",
    "    game.standby_phase(active_player, opponent)\n",
    "    game.main_phase(active_player)\n",
    "    game.battle_phase(active_player, opponent)\n",
    "    game.main_phase(active_player)\n",
    "    game.standby_phase(active_player, opponent)\n",
    "    game.end_phase(active_player)\n",
    "\n",
    "    # Switch active player\n",
    "    active_player, opponent = opponent, active_player\n",
    "    turn += 1"
   ]
  },
  {
   "cell_type": "code",
   "execution_count": null,
   "metadata": {},
   "outputs": [],
   "source": []
  }
 ],
 "metadata": {
  "kernelspec": {
   "display_name": "base",
   "language": "python",
   "name": "python3"
  },
  "language_info": {
   "codemirror_mode": {
    "name": "ipython",
    "version": 3
   },
   "file_extension": ".py",
   "mimetype": "text/x-python",
   "name": "python",
   "nbconvert_exporter": "python",
   "pygments_lexer": "ipython3",
   "version": "3.7.13"
  }
 },
 "nbformat": 4,
 "nbformat_minor": 2
}
